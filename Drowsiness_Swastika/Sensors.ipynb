{
 "cells": [
  {
   "cell_type": "code",
   "execution_count": null,
   "metadata": {},
   "outputs": [],
   "source": [
    "import time\n",
    "import board\n",
    "import busio\n",
    "import adafruit_lps35hw\n",
    " \n",
    "i2c = busio.I2C(board.SCL, board.SDA)\n",
    "lps35hw = adafruit_lps35hw.LPS35HW(i2c)"
   ]
  },
  {
   "cell_type": "code",
   "execution_count": null,
   "metadata": {},
   "outputs": [],
   "source": [
    "print(\"Pressure: %.2f hPa\" % lps35hw.pressure)\n",
    "print(\"Temperature: %.2f C\"% lps35hw.temperature)"
   ]
  },
  {
   "cell_type": "code",
   "execution_count": null,
   "metadata": {},
   "outputs": [],
   "source": [
    "import time\n",
    "import board\n",
    "import adafruit_lps35hw\n",
    " \n",
    "i2c = board.I2C()\n",
    "lps = adafruit_lps35hw.LPS35HW(i2c)\n",
    " \n",
    "while True:\n",
    "    print(\"Pressure: %.2f hPa\" % lps.pressure)\n",
    "    print(\"Temperature: %.2f C\" % lps.temperature)\n",
    "    print(\"\")\n",
    "    time.sleep(1)"
   ]
  },
  {
   "cell_type": "code",
   "execution_count": null,
   "metadata": {},
   "outputs": [],
   "source": []
  },
  {
   "cell_type": "code",
   "execution_count": null,
   "metadata": {},
   "outputs": [],
   "source": []
  }
 ],
 "metadata": {
  "kernelspec": {
   "display_name": "Python 3",
   "language": "python",
   "name": "python3"
  },
  "language_info": {
   "codemirror_mode": {
    "name": "ipython",
    "version": 3
   },
   "file_extension": ".py",
   "mimetype": "text/x-python",
   "name": "python",
   "nbconvert_exporter": "python",
   "pygments_lexer": "ipython3",
   "version": "3.6.5"
  }
 },
 "nbformat": 4,
 "nbformat_minor": 2
}
